{
  "nbformat": 4,
  "nbformat_minor": 0,
  "metadata": {
    "colab": {
      "name": "Untitled1.ipynb",
      "provenance": [],
      "authorship_tag": "ABX9TyO1HZY0oJ12BRZPt844OEm5",
      "include_colab_link": true
    },
    "kernelspec": {
      "name": "python3",
      "display_name": "Python 3"
    }
  },
  "cells": [
    {
      "cell_type": "markdown",
      "metadata": {
        "id": "view-in-github",
        "colab_type": "text"
      },
      "source": [
        "<a href=\"https://colab.research.google.com/github/taewooming/KimTaeWoo/blob/master/Untitled1.ipynb\" target=\"_parent\"><img src=\"https://colab.research.google.com/assets/colab-badge.svg\" alt=\"Open In Colab\"/></a>"
      ]
    },
    {
      "cell_type": "code",
      "metadata": {
        "id": "pa9y15CRinVg",
        "colab_type": "code",
        "colab": {}
      },
      "source": [
        ""
      ],
      "execution_count": 0,
      "outputs": []
    },
    {
      "cell_type": "markdown",
      "metadata": {
        "id": "6yr31bS0isE5",
        "colab_type": "text"
      },
      "source": [
        "# _언어, 음성, 이미지, 자율주행 4가지 분야의 기술을 사용하는 4가지 제품 및 서비스를 찾기_\n",
        "1. **언어** \n",
        "  \n",
        "   * 챗봇 (https://brunch.co.kr/@gentlepie/2)\n",
        "2. **음성**\n",
        " \n",
        " * 스마트 스피커 (https://m.post.naver.com/viewer/postView.nhn?volumeNo=16078976&memberNo=41740082)\n",
        "3. **이미지**\n",
        " * AI 카메라 (https://post.naver.com/viewer/postView.nhn?volumeNo=17875379&memberNo=39046504)\n",
        "4. **자율주행**\n",
        " *  자율주행자동차 (https://news.samsung.com/kr/%EC%9E%90%EC%9C%A8%EC%A3%BC%ED%96%89-%EC%9E%90%EB%8F%99%EC%B0%A8-%EB%94%A5%EB%9F%AC%EB%8B%9D%EC%9C%BC%EB%A1%9C-%EC%8B%9C%EB%8F%99-%EA%B1%B4%EB%8B%A4)"
      ]
    }
  ]
}